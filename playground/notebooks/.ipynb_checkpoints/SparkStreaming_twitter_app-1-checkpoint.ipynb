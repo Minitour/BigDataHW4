{
 "cells": [
  {
   "cell_type": "markdown",
   "metadata": {},
   "source": [
    "# Spark Streaming Twitter Example - create the stream\n",
    "\n",
    "Based upon https://www.toptal.com/apache/apache-spark-streaming-twitter\n",
    "\n",
    "### Preparations\n",
    "\n",
    "1. In another console install requests_oauthlib and flask by executing this command: `pip install requests_oauthlib flask`\n",
    "2. Create a twitter app on https://apps.twitter.com/\n",
    "3. In your App home-page under the Keys and tokens tab press **create** to create new access tokens. \n",
    "\n",
    "### Imports and tokens\n",
    "\n",
    "**make sure to replace the tokens with your tokens**"
   ]
  },
  {
   "cell_type": "code",
   "execution_count": null,
   "metadata": {},
   "outputs": [],
   "source": [
    "import socket\n",
    "import sys\n",
    "import requests\n",
    "import requests_oauthlib\n",
    "import json\n",
    "\n",
    "# Replace the values below with yours\n",
    "ACCESS_TOKEN = '1053037342867554304-4QmY7LgUp0N5f9Jof1suuKf3LmE09h'\n",
    "ACCESS_SECRET = '14YaQqTDjwmzUfALLhtuzJw1ibLehe6NbtlbdtAJiXOea'\n",
    "CONSUMER_KEY = 'owJ9m2q48GGYrMubsOSEyZbap'\n",
    "CONSUMER_SECRET = 'LQNlKSk7azipU1lIA2znEkQSwsGkTswhRheP0S2RbHLioW8HJt'\n",
    "my_auth = requests_oauthlib.OAuth1(CONSUMER_KEY, CONSUMER_SECRET,ACCESS_TOKEN, ACCESS_SECRET)"
   ]
  },
  {
   "cell_type": "markdown",
   "metadata": {},
   "source": [
    "### Define a function that connects to Twitter API and  and gets tweets"
   ]
  },
  {
   "cell_type": "code",
   "execution_count": null,
   "metadata": {},
   "outputs": [],
   "source": [
    "def get_tweets():\n",
    "\turl = 'https://stream.twitter.com/1.1/statuses/filter.json'\n",
    "\tquery_data = [('language', 'en'), ('locations', '-130,-20,100,50'),('track','#')]\n",
    "\tquery_url = url + '?' + '&'.join([str(t[0]) + '=' + str(t[1]) for t in query_data])\n",
    "\tresponse = requests.get(query_url, auth=my_auth, stream=True)\n",
    "\tprint(query_url, response)\n",
    "\treturn response"
   ]
  },
  {
   "cell_type": "markdown",
   "metadata": {},
   "source": [
    "### Define a function that streams the tweets over a tcp connection"
   ]
  },
  {
   "cell_type": "code",
   "execution_count": null,
   "metadata": {},
   "outputs": [],
   "source": [
    "def send_tweets_to_spark(http_resp, tcp_connection):\n",
    "    for line in http_resp.iter_lines():\n",
    "        try:\n",
    "            full_tweet = json.loads(line)\n",
    "            tweet_text = full_tweet['text'].encode(\"utf-8\")\n",
    "            print (\"------------------------------------------\")\n",
    "            print(\"Tweet Text: {}\".format(tweet_text))\n",
    "            tcp_connection.send(tweet_text)\n",
    "        except:\n",
    "            e = sys.exc_info()[0]\n",
    "            print(\"Error: %s\" % e)"
   ]
  },
  {
   "cell_type": "markdown",
   "metadata": {},
   "source": [
    "### Start a localhost tcp socket to stream the tweets"
   ]
  },
  {
   "cell_type": "code",
   "execution_count": null,
   "metadata": {},
   "outputs": [],
   "source": [
    "TCP_IP = \"localhost\"\n",
    "TCP_PORT = 9009\n",
    "conn = None\n",
    "s = socket.socket(socket.AF_INET, socket.SOCK_STREAM)\n",
    "s.bind((TCP_IP, TCP_PORT))\n",
    "s.listen(1)\n",
    "print(\"Waiting for TCP connection...\")\n",
    "conn, addr = s.accept()\n",
    "print(\"Connected... Starting getting tweets.\")\n",
    "resp = get_tweets()\n",
    "send_tweets_to_spark(resp, conn)"
   ]
  },
  {
   "cell_type": "code",
   "execution_count": null,
   "metadata": {},
   "outputs": [],
   "source": []
  }
 ],
 "metadata": {
  "kernelspec": {
   "display_name": "Python 3",
   "language": "python",
   "name": "python3"
  },
  "language_info": {
   "codemirror_mode": {
    "name": "ipython",
    "version": 3
   },
   "file_extension": ".py",
   "mimetype": "text/x-python",
   "name": "python",
   "nbconvert_exporter": "python",
   "pygments_lexer": "ipython3",
   "version": "3.7.0"
  }
 },
 "nbformat": 4,
 "nbformat_minor": 2
}
