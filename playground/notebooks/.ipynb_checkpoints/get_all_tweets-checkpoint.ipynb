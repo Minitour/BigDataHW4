{
 "cells": [
  {
   "cell_type": "code",
   "execution_count": null,
   "metadata": {},
   "outputs": [],
   "source": [
    "import socket\n",
    "import sys\n",
    "import requests\n",
    "import requests_oauthlib\n",
    "import json\n",
    "\n",
    "# Replace the values below with yours\n",
    "ACCESS_TOKEN = '1053037342867554304-4QmY7LgUp0N5f9Jof1suuKf3LmE09h'\n",
    "ACCESS_SECRET = '14YaQqTDjwmzUfALLhtuzJw1ibLehe6NbtlbdtAJiXOea'\n",
    "CONSUMER_KEY = 'owJ9m2q48GGYrMubsOSEyZbap'\n",
    "CONSUMER_SECRET = 'LQNlKSk7azipU1lIA2znEkQSwsGkTswhRheP0S2RbHLioW8HJt'\n",
    "my_auth = requests_oauthlib.OAuth1(CONSUMER_KEY, CONSUMER_SECRET,ACCESS_TOKEN, ACCESS_SECRET)"
   ]
  },
  {
   "cell_type": "markdown",
   "metadata": {},
   "source": [
    "### Define a function that connects to Twitter API and  and gets tweets"
   ]
  },
  {
   "cell_type": "code",
   "execution_count": null,
   "metadata": {},
   "outputs": [],
   "source": [
    "def get_tweets():\n",
    "\turl = 'https://stream.twitter.com/1.1/statuses/filter.json'\n",
    "\tquery_data = [('language', 'en'),('follow','2669983818,63299591,6529402')]\n",
    "\tquery_url = url + '?' + '&'.join([str(t[0]) + '=' + str(t[1]) for t in query_data])\n",
    "\tresponse = requests.get(query_url, auth=my_auth, stream=True)\n",
    "\tprint(query_url, response)\n",
    "\treturn response"
   ]
  },
  {
   "cell_type": "markdown",
   "metadata": {},
   "source": [
    "### Define a function that streams the tweets over a tcp connection"
   ]
  },
  {
   "cell_type": "code",
   "execution_count": null,
   "metadata": {},
   "outputs": [],
   "source": [
    "def print_tweets(http_resp):\n",
    "    for line in http_resp.iter_lines():\n",
    "        try:\n",
    "            full_tweet = json.loads(line)\n",
    "            tweet_text = full_tweet['text'].encode(\"utf-8\")\n",
    "            user_name = full_tweet['user']['name'].encode(\"utf-8\")\n",
    "            print(\"------------------------------------------\")\n",
    "            print(\"Tweet User: {}\".format(user_name))\n",
    "            print(\"Tweet Text: {}\".format(tweet_text))\n",
    "        except:\n",
    "            e = sys.exc_info()[0]\n",
    "            print(\"Error: %s\" % e)"
   ]
  },
  {
   "cell_type": "markdown",
   "metadata": {},
   "source": [
    "### Start a localhost tcp socket to stream the tweets"
   ]
  },
  {
   "cell_type": "code",
   "execution_count": null,
   "metadata": {},
   "outputs": [],
   "source": [
    "#TCP_IP = \"localhost\"\n",
    "#TCP_PORT = 9009\n",
    "#conn = None\n",
    "#s = socket.socket(socket.AF_INET, socket.SOCK_STREAM)\n",
    "#s.bind((TCP_IP, TCP_PORT))\n",
    "#s.listen(1)\n",
    "print(\"Waiting for TCP connection...\")\n",
    "#conn, addr = s.accept()\n",
    "print(\"Connected... Starting getting tweets.\")\n",
    "resp = get_tweets()\n",
    "print_tweets(resp)"
   ]
  },
  {
   "cell_type": "code",
   "execution_count": null,
   "metadata": {},
   "outputs": [],
   "source": []
  }
 ],
 "metadata": {
  "kernelspec": {
   "display_name": "Python 3",
   "language": "python",
   "name": "python3"
  },
  "language_info": {
   "codemirror_mode": {
    "name": "ipython",
    "version": 3
   },
   "file_extension": ".py",
   "mimetype": "text/x-python",
   "name": "python",
   "nbconvert_exporter": "python",
   "pygments_lexer": "ipython3",
   "version": "3.7.0"
  }
 },
 "nbformat": 4,
 "nbformat_minor": 2
}
