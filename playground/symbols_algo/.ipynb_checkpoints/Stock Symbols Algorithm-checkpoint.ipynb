{
 "cells": [
  {
   "cell_type": "code",
   "execution_count": 5,
   "metadata": {},
   "outputs": [],
   "source": [
    "import json\n",
    "import requests\n",
    "import re"
   ]
  },
  {
   "cell_type": "code",
   "execution_count": 3,
   "metadata": {},
   "outputs": [],
   "source": [
    "url = \"https://api.iextrading.com/1.0/ref-data/symbols\"\n",
    "\n",
    "headers = {'cache-control': 'no-cache'}\n",
    "\n",
    "response = requests.request(\"GET\", url, headers=headers)\n",
    "\n",
    "data = json.loads(response.text)"
   ]
  },
  {
   "cell_type": "code",
   "execution_count": 62,
   "metadata": {},
   "outputs": [],
   "source": [
    "name_symbol_map = {}\n",
    "symbo_name_map = {}\n",
    "\n",
    "for company in data:\n",
    "    symbol = company['symbol']\n",
    "    name = company['name']\n",
    "    name = re.sub(r'[^a-zA-Z ]',r'', name).lower()\n",
    "    name = re.sub(' +', ' ',name)\n",
    "    if len(name) != 0:\n",
    "        name_symbol_map[name] = symbol\n",
    "    \n",
    "    symbo_name_map[symbol] = name"
   ]
  },
  {
   "cell_type": "code",
   "execution_count": 78,
   "metadata": {},
   "outputs": [
    {
     "name": "stdout",
     "output_type": "stream",
     "text": [
      "agilent technologies inc -> A\n",
      "alcoa corporation -> AA\n",
      "perth mint physical gold -> AAAU\n",
      "altaba inc -> AABA\n",
      "aac holdings inc -> AAC\n",
      "advisorshares dorsey wright adr -> AADR\n",
      "american airlines group inc -> AAL\n",
      "altisource asset management corp com -> AAMC\n",
      "atlantic american corporation -> AAME\n",
      "aarons inc -> AAN\n",
      "applied optoelectronics inc -> AAOI\n",
      "aaon inc -> AAON\n",
      "advance auto parts inc wi -> AAP\n",
      "apple inc -> AAPL\n",
      "american assets trust inc -> AAT\n",
      "almaden minerals ltd -> AAU\n",
      "atlas air worldwide holdings -> AAWW\n",
      "ishares msci all country asia ex japan index fund -> AAXJ\n",
      "axon enterprise inc -> AAXN\n",
      "alliancebernstein holding lp units -> AB\n",
      "renmin tianli group inc -> ABAC\n",
      "... more 8444 items\n"
     ]
    }
   ],
   "source": [
    "i = 0\n",
    "for k,v in name_symbol_map.items():\n",
    "    if i > 20:\n",
    "        break\n",
    "    print(k,'->',v)\n",
    "    i += 1\n",
    "print('... more',len(name_symbol_map) - i,'items')"
   ]
  },
  {
   "cell_type": "code",
   "execution_count": 79,
   "metadata": {},
   "outputs": [
    {
     "data": {
      "text/plain": [
       "[{'index': 'apple inc', 'weight': 0.5555555555555556},\n",
       " {'index': 'apple hospitality reit inc', 'weight': 0.19230769230769232}]"
      ]
     },
     "execution_count": 79,
     "metadata": {},
     "output_type": "execute_result"
    }
   ],
   "source": [
    "single_words_dict = {}\n",
    "\n",
    "# for each company name\n",
    "for key in name_symbol_map:\n",
    "    # for each word in the comapny name\n",
    "    for word in key.split(\" \"):\n",
    "        if word in single_words_dict:\n",
    "            arr = single_words_dict[word]\n",
    "        else:\n",
    "            # first time appending the word\n",
    "            arr = []\n",
    "        arr.append({ 'index' : key, 'weight' : (len(word) / len(key)) })\n",
    "        single_words_dict[word] = arr\n",
    "        \n",
    "single_words_dict['apple']"
   ]
  },
  {
   "cell_type": "code",
   "execution_count": 57,
   "metadata": {},
   "outputs": [
    {
     "data": {
      "text/plain": [
       "('MSFT', 0.9523809523809523)"
      ]
     },
     "execution_count": 57,
     "metadata": {},
     "output_type": "execute_result"
    }
   ],
   "source": [
    "def get_symbol(tweet):\n",
    "    # strip tweet from non english chars\n",
    "    tweet = re.sub(r'[^a-zA-Z ]',r'', tweet).lower()\n",
    "    tweet = re.sub(' +', ' ',tweet)\n",
    "    \n",
    "    score_map = {}\n",
    "    \n",
    "    # for each word\n",
    "    for word in tweet.split(\" \"):\n",
    "        if word in single_words_dict:\n",
    "            # look up results\n",
    "            lookup_res = single_words_dict[word]\n",
    "            \n",
    "            for company_index in lookup_res:\n",
    "                company_name = company_index['index']\n",
    "                company_index_score = company_index['weight']\n",
    "                \n",
    "                if company_name in score_map:\n",
    "                    score_map[company_name] += company_index_score\n",
    "                else:\n",
    "                    score_map[company_name] = company_index_score\n",
    "    \n",
    "    maxi = 0\n",
    "    maxc = None\n",
    "    total = 0\n",
    "    for key,val in score_map.items():\n",
    "        total += val\n",
    "        \n",
    "        if val > maxi:\n",
    "            maxc = key\n",
    "            maxi = val\n",
    "            \n",
    "    if maxc is not None:\n",
    "        return (name_symbol_map[maxc], maxi)\n",
    "    \n",
    "tweet = \"GitHub finally has unlimited free repositories! Well done Microsoft corporation!\"\n",
    "\n",
    "\n",
    "get_symbol(tweet)\n"
   ]
  },
  {
   "cell_type": "code",
   "execution_count": 80,
   "metadata": {},
   "outputs": [
    {
     "data": {
      "text/plain": [
       "('AAPL', 0.5555555555555556)"
      ]
     },
     "execution_count": 80,
     "metadata": {},
     "output_type": "execute_result"
    }
   ],
   "source": [
    "get_symbol('apple')"
   ]
  },
  {
   "cell_type": "code",
   "execution_count": 81,
   "metadata": {},
   "outputs": [
    {
     "data": {
      "text/plain": [
       "('TWTR', 0.6363636363636364)"
      ]
     },
     "execution_count": 81,
     "metadata": {},
     "output_type": "execute_result"
    }
   ],
   "source": [
    "get_symbol('twitter')"
   ]
  }
 ],
 "metadata": {
  "kernelspec": {
   "display_name": "Python 3",
   "language": "python",
   "name": "python3"
  },
  "language_info": {
   "codemirror_mode": {
    "name": "ipython",
    "version": 3
   },
   "file_extension": ".py",
   "mimetype": "text/x-python",
   "name": "python",
   "nbconvert_exporter": "python",
   "pygments_lexer": "ipython3",
   "version": "3.6.4"
  }
 },
 "nbformat": 4,
 "nbformat_minor": 2
}
